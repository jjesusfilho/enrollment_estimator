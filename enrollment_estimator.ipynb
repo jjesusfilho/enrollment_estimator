{
 "cells": [
  {
   "cell_type": "markdown",
   "metadata": {},
   "source": [
    "# Data Import"
   ]
  },
  {
   "cell_type": "code",
   "execution_count": 2,
   "metadata": {
    "collapsed": false
   },
   "outputs": [],
   "source": [
    "import pandas as pd\n",
    "\n",
    "# Import our raw data into a Pandas Dataframe\n",
    "# low_memory is just to make the 'mixed types' warning go away.\n",
    "df1 = pd.read_csv('delta_public_87_99.csv', low_memory=False)\n",
    "df2 = pd.read_csv('delta_public_00_12.csv', low_memory=False)\n",
    "\n",
    "# Combine the 87-99 data with the 00-12 data into one frame\n",
    "frames = [df1, df2]\n",
    "data = pd.concat(frames)"
   ]
  },
  {
   "cell_type": "markdown",
   "metadata": {},
   "source": [
    "## Data Exploration"
   ]
  },
  {
   "cell_type": "code",
   "execution_count": 3,
   "metadata": {
    "collapsed": false
   },
   "outputs": [
    {
     "name": "stdout",
     "output_type": "stream",
     "text": [
      "(215613, 974)\n"
     ]
    }
   ],
   "source": [
    "# Get number of observations and number of attributes\n",
    "print data.shape"
   ]
  },
  {
   "cell_type": "code",
   "execution_count": 4,
   "metadata": {
    "collapsed": true
   },
   "outputs": [],
   "source": [
    "# Isolate Target Variable\n",
    "enrollment = data['total_enrollment']\n",
    "features = data.drop('total_enrollment', axis = 1)"
   ]
  },
  {
   "cell_type": "code",
   "execution_count": 5,
   "metadata": {
    "collapsed": false
   },
   "outputs": [
    {
     "data": {
      "text/plain": [
       "count    153168.000000\n",
       "mean       2809.486148\n",
       "std        7540.511589\n",
       "min           0.000000\n",
       "25%         101.000000\n",
       "50%         481.000000\n",
       "75%        2344.000000\n",
       "max      380232.000000\n",
       "Name: total_enrollment, dtype: float64"
      ]
     },
     "execution_count": 5,
     "metadata": {},
     "output_type": "execute_result"
    }
   ],
   "source": [
    "enrollment.describe()"
   ]
  },
  {
   "cell_type": "code",
   "execution_count": null,
   "metadata": {
    "collapsed": true
   },
   "outputs": [],
   "source": []
  }
 ],
 "metadata": {
  "kernelspec": {
   "display_name": "Python 2",
   "language": "python",
   "name": "python2"
  },
  "language_info": {
   "codemirror_mode": {
    "name": "ipython",
    "version": 2
   },
   "file_extension": ".py",
   "mimetype": "text/x-python",
   "name": "python",
   "nbconvert_exporter": "python",
   "pygments_lexer": "ipython2",
   "version": "2.7.10"
  }
 },
 "nbformat": 4,
 "nbformat_minor": 1
}
